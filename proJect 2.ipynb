{
 "cells": [
  {
   "cell_type": "code",
   "execution_count": null,
   "metadata": {},
   "outputs": [],
   "source": [
    "import random\n",
    "\n",
    "def get_computer_choice():\n",
    "  \"\"\"Randomly selects a choice for the computer.\"\"\"\n",
    "  choices = [\"rock\", \"paper\", \"scissors\"]\n",
    "  computer_choice = random.choice(choices)\n",
    "  return computer_choice\n",
    "\n",
    "def determine_winner(user_choice, computer_choice):  \n",
    "\n",
    "  \"\"\"Determines the winner of the game.\"\"\"\n",
    "  if user_choice == computer_choice:\n",
    "    return \"It's a tie!\"\n",
    "  elif user_choice == \"rock\":\n",
    "    if computer_choice == \"scissors\":\n",
    "      return \"You win!\"\n",
    "    else:\n",
    "      return  \"You lose!\"\n",
    "  elif user_choice == \"paper\":\n",
    "    if computer_choice == \"rock\":\n",
    "      return \"You win!\"\n",
    "    else:\n",
    "      return \"You lose!\"\n",
    "  elif user_choice == \"scissors\":\n",
    "    if computer_choice == \"paper\":\n",
    "      return \"You win!\"\n",
    "    else:\n",
    "      return \"You lose!\"\n",
    "\n",
    "while True:\n",
    "  user_choice = input(\"Enter a choice (rock, paper, scissors): \")\n",
    "  computer_choice = get_computer_choice()\n",
    "  print(f\"You chose {user_choice}, computer chose {computer_choice}\")\n",
    "\n",
    "  result = determine_winner(user_choice, computer_choice)  \n",
    "\n",
    "  print(result)\n",
    "\n",
    "  play_again = input(\"Play again? (yes/no):\")\n",
    "  if play_again.lower() != \"yes\":\n",
    "    break"
   ]
  }
 ],
 "metadata": {
  "kernelspec": {
   "display_name": "Python 3",
   "language": "python",
   "name": "python3"
  },
  "language_info": {
   "codemirror_mode": {
    "name": "ipython",
    "version": 3
   },
   "file_extension": ".py",
   "mimetype": "text/x-python",
   "name": "python",
   "nbconvert_exporter": "python",
   "pygments_lexer": "ipython3",
   "version": "3.9.9"
  }
 },
 "nbformat": 4,
 "nbformat_minor": 2
}
